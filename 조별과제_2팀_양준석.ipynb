{
  "nbformat": 4,
  "nbformat_minor": 0,
  "metadata": {
    "colab": {
      "name": "조별과제_2팀_양준석.ipynb",
      "provenance": [],
      "collapsed_sections": [],
      "mount_file_id": "1WAC0gmVRgxYLLkzwptcge8pLQTp6G3on",
      "authorship_tag": "ABX9TyPgZAgfwHLoyzPGjpH6vtog",
      "include_colab_link": true
    },
    "kernelspec": {
      "name": "python3",
      "display_name": "Python 3"
    },
    "language_info": {
      "name": "python"
    }
  },
  "cells": [
    {
      "cell_type": "markdown",
      "metadata": {
        "id": "view-in-github",
        "colab_type": "text"
      },
      "source": [
        "<a href=\"https://colab.research.google.com/github/junseok42/2021_PNUAC_AIData/blob/main/%EC%A1%B0%EB%B3%84%EA%B3%BC%EC%A0%9C_2%ED%8C%80_%EC%96%91%EC%A4%80%EC%84%9D.ipynb\" target=\"_parent\"><img src=\"https://colab.research.google.com/assets/colab-badge.svg\" alt=\"Open In Colab\"/></a>"
      ]
    },
    {
      "cell_type": "markdown",
      "metadata": {
        "id": "CiX1mFuCBxkG"
      },
      "source": [
        "#2팀\n",
        "+ 주제 : 수집한 데이터를 이용해 승률 예측\n",
        "+ 주제선정이유 : 친숙한 주제를 통해 예측 등을 진행해보면 이해가 쉽고 흥미로울 것 같아서\n",
        "+ 수집한 자료를 통해 데이터 선처리 과정을 거친 후, 분석을 통해 승패를 예측했습니다. 예시를 컴퓨터에게 학습시킨 후 다른 예시를 제공하면, 학습한 예시값을 통해 승패를 예측합니다. 마지막 반올림을 거친 값이 1이라면 승리, 패배라면 0의 값을 얻을 수 있습니다. 이를 통해 예측을 해볼수 있습니다."
      ]
    },
    {
      "cell_type": "code",
      "metadata": {
        "colab": {
          "base_uri": "https://localhost:8080/"
        },
        "id": "gYHPrf8euwrn",
        "outputId": "a3a3fd38-509f-4ed4-db53-e84a121f0777"
      },
      "source": [
        "!pip install selenium\n",
        "!apt-get update\n",
        "!apt install chromium-chromedriver"
      ],
      "execution_count": null,
      "outputs": [
        {
          "output_type": "stream",
          "text": [
            "Collecting selenium\n",
            "\u001b[?25l  Downloading https://files.pythonhosted.org/packages/80/d6/4294f0b4bce4de0abf13e17190289f9d0613b0a44e5dd6a7f5ca98459853/selenium-3.141.0-py2.py3-none-any.whl (904kB)\n",
            "\u001b[K     |████████████████████████████████| 911kB 6.3MB/s \n",
            "\u001b[?25hRequirement already satisfied: urllib3 in /usr/local/lib/python3.7/dist-packages (from selenium) (1.24.3)\n",
            "Installing collected packages: selenium\n",
            "Successfully installed selenium-3.141.0\n",
            "Get:1 http://security.ubuntu.com/ubuntu bionic-security InRelease [88.7 kB]\n",
            "Get:2 https://cloud.r-project.org/bin/linux/ubuntu bionic-cran40/ InRelease [3,626 B]\n",
            "Ign:3 https://developer.download.nvidia.com/compute/cuda/repos/ubuntu1804/x86_64  InRelease\n",
            "Ign:4 https://developer.download.nvidia.com/compute/machine-learning/repos/ubuntu1804/x86_64  InRelease\n",
            "Get:5 http://ppa.launchpad.net/c2d4u.team/c2d4u4.0+/ubuntu bionic InRelease [15.9 kB]\n",
            "Get:6 https://developer.download.nvidia.com/compute/cuda/repos/ubuntu1804/x86_64  Release [697 B]\n",
            "Hit:7 https://developer.download.nvidia.com/compute/machine-learning/repos/ubuntu1804/x86_64  Release\n",
            "Get:8 https://developer.download.nvidia.com/compute/cuda/repos/ubuntu1804/x86_64  Release.gpg [836 B]\n",
            "Hit:9 http://archive.ubuntu.com/ubuntu bionic InRelease\n",
            "Get:10 http://archive.ubuntu.com/ubuntu bionic-updates InRelease [88.7 kB]\n",
            "Get:11 https://cloud.r-project.org/bin/linux/ubuntu bionic-cran40/ Packages [62.2 kB]\n",
            "Hit:12 http://ppa.launchpad.net/cran/libgit2/ubuntu bionic InRelease\n",
            "Get:13 http://ppa.launchpad.net/deadsnakes/ppa/ubuntu bionic InRelease [15.9 kB]\n",
            "Get:14 http://security.ubuntu.com/ubuntu bionic-security/main amd64 Packages [2,221 kB]\n",
            "Get:15 http://archive.ubuntu.com/ubuntu bionic-backports InRelease [74.6 kB]\n",
            "Get:16 http://security.ubuntu.com/ubuntu bionic-security/universe amd64 Packages [1,418 kB]\n",
            "Hit:17 http://ppa.launchpad.net/graphics-drivers/ppa/ubuntu bionic InRelease\n",
            "Ign:19 https://developer.download.nvidia.com/compute/cuda/repos/ubuntu1804/x86_64  Packages\n",
            "Get:19 https://developer.download.nvidia.com/compute/cuda/repos/ubuntu1804/x86_64  Packages [637 kB]\n",
            "Get:20 http://ppa.launchpad.net/c2d4u.team/c2d4u4.0+/ubuntu bionic/main Sources [1,780 kB]\n",
            "Get:21 http://archive.ubuntu.com/ubuntu bionic-updates/universe amd64 Packages [2,188 kB]\n",
            "Get:22 http://ppa.launchpad.net/c2d4u.team/c2d4u4.0+/ubuntu bionic/main amd64 Packages [910 kB]\n",
            "Get:23 http://archive.ubuntu.com/ubuntu bionic-updates/main amd64 Packages [2,658 kB]\n",
            "Get:24 http://ppa.launchpad.net/deadsnakes/ppa/ubuntu bionic/main amd64 Packages [40.8 kB]\n",
            "Fetched 12.2 MB in 4s (3,360 kB/s)\n",
            "Reading package lists... Done\n",
            "Reading package lists... Done\n",
            "Building dependency tree       \n",
            "Reading state information... Done\n",
            "The following additional packages will be installed:\n",
            "  chromium-browser chromium-browser-l10n chromium-codecs-ffmpeg-extra\n",
            "Suggested packages:\n",
            "  webaccounts-chromium-extension unity-chromium-extension\n",
            "The following NEW packages will be installed:\n",
            "  chromium-browser chromium-browser-l10n chromium-chromedriver\n",
            "  chromium-codecs-ffmpeg-extra\n",
            "0 upgraded, 4 newly installed, 0 to remove and 58 not upgraded.\n",
            "Need to get 86.0 MB of archives.\n",
            "After this operation, 298 MB of additional disk space will be used.\n",
            "Get:1 http://archive.ubuntu.com/ubuntu bionic-updates/universe amd64 chromium-codecs-ffmpeg-extra amd64 91.0.4472.101-0ubuntu0.18.04.1 [1,124 kB]\n",
            "Get:2 http://archive.ubuntu.com/ubuntu bionic-updates/universe amd64 chromium-browser amd64 91.0.4472.101-0ubuntu0.18.04.1 [76.1 MB]\n",
            "Get:3 http://archive.ubuntu.com/ubuntu bionic-updates/universe amd64 chromium-browser-l10n all 91.0.4472.101-0ubuntu0.18.04.1 [3,937 kB]\n",
            "Get:4 http://archive.ubuntu.com/ubuntu bionic-updates/universe amd64 chromium-chromedriver amd64 91.0.4472.101-0ubuntu0.18.04.1 [4,837 kB]\n",
            "Fetched 86.0 MB in 4s (19.1 MB/s)\n",
            "Selecting previously unselected package chromium-codecs-ffmpeg-extra.\n",
            "(Reading database ... 160815 files and directories currently installed.)\n",
            "Preparing to unpack .../chromium-codecs-ffmpeg-extra_91.0.4472.101-0ubuntu0.18.04.1_amd64.deb ...\n",
            "Unpacking chromium-codecs-ffmpeg-extra (91.0.4472.101-0ubuntu0.18.04.1) ...\n",
            "Selecting previously unselected package chromium-browser.\n",
            "Preparing to unpack .../chromium-browser_91.0.4472.101-0ubuntu0.18.04.1_amd64.deb ...\n",
            "Unpacking chromium-browser (91.0.4472.101-0ubuntu0.18.04.1) ...\n",
            "Selecting previously unselected package chromium-browser-l10n.\n",
            "Preparing to unpack .../chromium-browser-l10n_91.0.4472.101-0ubuntu0.18.04.1_all.deb ...\n",
            "Unpacking chromium-browser-l10n (91.0.4472.101-0ubuntu0.18.04.1) ...\n",
            "Selecting previously unselected package chromium-chromedriver.\n",
            "Preparing to unpack .../chromium-chromedriver_91.0.4472.101-0ubuntu0.18.04.1_amd64.deb ...\n",
            "Unpacking chromium-chromedriver (91.0.4472.101-0ubuntu0.18.04.1) ...\n",
            "Setting up chromium-codecs-ffmpeg-extra (91.0.4472.101-0ubuntu0.18.04.1) ...\n",
            "Setting up chromium-browser (91.0.4472.101-0ubuntu0.18.04.1) ...\n",
            "update-alternatives: using /usr/bin/chromium-browser to provide /usr/bin/x-www-browser (x-www-browser) in auto mode\n",
            "update-alternatives: using /usr/bin/chromium-browser to provide /usr/bin/gnome-www-browser (gnome-www-browser) in auto mode\n",
            "Setting up chromium-chromedriver (91.0.4472.101-0ubuntu0.18.04.1) ...\n",
            "Setting up chromium-browser-l10n (91.0.4472.101-0ubuntu0.18.04.1) ...\n",
            "Processing triggers for man-db (2.8.3-2ubuntu0.1) ...\n",
            "Processing triggers for hicolor-icon-theme (0.17-2) ...\n",
            "Processing triggers for mime-support (3.60ubuntu1) ...\n",
            "Processing triggers for libc-bin (2.27-3ubuntu1.2) ...\n",
            "/sbin/ldconfig.real: /usr/local/lib/python3.7/dist-packages/ideep4py/lib/libmkldnn.so.0 is not a symbolic link\n",
            "\n"
          ],
          "name": "stdout"
        }
      ]
    },
    {
      "cell_type": "code",
      "metadata": {
        "id": "XE-ZV1ctvsHk"
      },
      "source": [
        "from selenium import webdriver\n",
        "from urllib.request import urlopen\n",
        "from bs4 import BeautifulSoup as bs\n",
        "from urllib.parse import quote_plus\n",
        "from selenium.webdriver.common.keys import Keys\n",
        "import time"
      ],
      "execution_count": null,
      "outputs": []
    },
    {
      "cell_type": "code",
      "metadata": {
        "colab": {
          "base_uri": "https://localhost:8080/"
        },
        "id": "pMWjvJXlvuZ3",
        "outputId": "285a1078-cc9b-40bb-dfca-7c89184a4e62"
      },
      "source": [
        "url = \"https://www.op.gg/summoner/userName=\"\n",
        "summoner = input(\"소환사명을 입력하세요 : \")\n",
        "base_url = url + quote_plus(summoner)\n",
        "print(base_url)"
      ],
      "execution_count": null,
      "outputs": [
        {
          "output_type": "stream",
          "text": [
            "소환사명을 입력하세요 : 비어디\n",
            "https://www.op.gg/summoner/userName=%EB%B9%84%EC%96%B4%EB%94%94\n"
          ],
          "name": "stdout"
        }
      ]
    },
    {
      "cell_type": "code",
      "metadata": {
        "id": "bOy-9E3qvwq_"
      },
      "source": [
        "chrome_options = webdriver.ChromeOptions()\n",
        "chrome_options.add_argument('--headless')\n",
        "chrome_options.add_argument('--no-sandbox')\n",
        "chrome_options.add_argument('--disable-dev-shm-usage')\n",
        "chrome_options.add_argument(\"--start-maximized\")\n",
        "driver = webdriver.Chrome('chromedriver', chrome_options=chrome_options)\n",
        "driver.get(base_url)"
      ],
      "execution_count": null,
      "outputs": []
    },
    {
      "cell_type": "code",
      "metadata": {
        "id": "ETJ2LeBJvzVT"
      },
      "source": [
        "gameLists = driver.find_elements_by_class_name('GameItemWrap')\n",
        "gameLists"
      ],
      "execution_count": null,
      "outputs": []
    },
    {
      "cell_type": "code",
      "metadata": {
        "colab": {
          "base_uri": "https://localhost:8080/"
        },
        "id": "CfKSKrgjzSf_",
        "outputId": "33d226cc-b733-452b-ccdb-3497d85336ab"
      },
      "source": [
        "games = []\n",
        "\n",
        "for game in gameLists:\n",
        "  gameLength = game.find_element_by_class_name(\"GameLength\")\n",
        "  gameLength = int(gameLength.text.split('m')[0]) * 60 + int(gameLength.text.split('m')[1].split('s')[0])\n",
        "  kill = game.find_element_by_class_name(\"Kill\")\n",
        "  kill = int(kill.text)\n",
        "  death = game.find_element_by_class_name(\"Death\")\n",
        "  death = int(death.text)\n",
        "  assist = game.find_element_by_class_name(\"Assist\")\n",
        "  assist = int(assist.text)\n",
        "  killRate = game.find_element_by_class_name(\"CKRate\")\n",
        "  killRate = int(killRate.text.split()[1].split('%')[0])\n",
        "\n",
        "  games.append([gameLength, kill, death, assist, killRate])\n",
        "  print(gameLength, kill, death, assist, killRate)\n",
        "print(games)\n",
        "#리스트에 값 처리해 넣기"
      ],
      "execution_count": null,
      "outputs": [
        {
          "output_type": "stream",
          "text": [
            "1311 4 6 2 35\n",
            "1650 3 8 8 32\n",
            "1879 15 2 8 70\n",
            "1801 5 7 7 50\n",
            "2082 7 5 11 46\n",
            "1326 9 6 2 85\n",
            "1680 15 7 6 47\n",
            "1252 1 6 2 25\n",
            "2313 11 9 4 33\n",
            "613 6 0 1 64\n",
            "1283 17 3 6 59\n",
            "969 4 2 5 28\n",
            "1643 20 4 1 50\n",
            "1618 17 5 12 71\n",
            "936 9 2 4 54\n",
            "1147 7 2 2 39\n",
            "1606 8 3 9 57\n",
            "1813 5 7 8 46\n",
            "1049 3 1 3 35\n",
            "1835 8 3 19 60\n",
            "[[1311, 4, 6, 2, 35], [1650, 3, 8, 8, 32], [1879, 15, 2, 8, 70], [1801, 5, 7, 7, 50], [2082, 7, 5, 11, 46], [1326, 9, 6, 2, 85], [1680, 15, 7, 6, 47], [1252, 1, 6, 2, 25], [2313, 11, 9, 4, 33], [613, 6, 0, 1, 64], [1283, 17, 3, 6, 59], [969, 4, 2, 5, 28], [1643, 20, 4, 1, 50], [1618, 17, 5, 12, 71], [936, 9, 2, 4, 54], [1147, 7, 2, 2, 39], [1606, 8, 3, 9, 57], [1813, 5, 7, 8, 46], [1049, 3, 1, 3, 35], [1835, 8, 3, 19, 60]]\n"
          ],
          "name": "stdout"
        }
      ]
    },
    {
      "cell_type": "code",
      "metadata": {
        "colab": {
          "base_uri": "https://localhost:8080/"
        },
        "id": "jU899Hn22IxN",
        "outputId": "7b03e8fb-8d2b-4c76-8abf-147cd4387fd6"
      },
      "source": [
        "results = []\n",
        "\n",
        "for game in gameLists:\n",
        "  gameResult = game.find_element_by_class_name('GameResult')\n",
        "  if gameResult.text == 'Victory' :\n",
        "    results.append(1)\n",
        "  else:\n",
        "    results.append(0)\n",
        "print(results)\n",
        "#승리 패배 예시 데이터 제공"
      ],
      "execution_count": null,
      "outputs": [
        {
          "output_type": "stream",
          "text": [
            "[0, 0, 1, 0, 0, 0, 0, 0, 0, 1, 1, 1, 1, 1, 1, 1, 1, 0, 1, 1]\n"
          ],
          "name": "stdout"
        }
      ]
    },
    {
      "cell_type": "code",
      "metadata": {
        "id": "9t6pUTlD2_WU"
      },
      "source": [
        "import numpy as np\n",
        "from sklearn.linear_model import LinearRegression"
      ],
      "execution_count": null,
      "outputs": []
    },
    {
      "cell_type": "code",
      "metadata": {
        "colab": {
          "base_uri": "https://localhost:8080/"
        },
        "id": "OxEVzqIA38Tb",
        "outputId": "9600f9b4-8a76-47b3-da7f-3bef4b48d761"
      },
      "source": [
        "X = np.array(games)\n",
        "Y = np.array(results)\n",
        "\n",
        "reg = LinearRegression().fit(X,Y)\n",
        "reg.score(X, Y)\n",
        "#값을 학습시킴"
      ],
      "execution_count": null,
      "outputs": [
        {
          "output_type": "execute_result",
          "data": {
            "text/plain": [
              "0.8901557496954733"
            ]
          },
          "metadata": {
            "tags": []
          },
          "execution_count": 22
        }
      ]
    },
    {
      "cell_type": "code",
      "metadata": {
        "colab": {
          "base_uri": "https://localhost:8080/"
        },
        "id": "C1v63kwY44W4",
        "outputId": "a5fe3195-98f0-4630-ca7c-5d3990bab60b"
      },
      "source": [
        "pred = [[20 * 60 + 31,8,0,6,64]]\n",
        "pred = np.array(pred)\n",
        "pred\n",
        "#분석을 통해 예측할 값 입력"
      ],
      "execution_count": null,
      "outputs": [
        {
          "output_type": "execute_result",
          "data": {
            "text/plain": [
              "array([[1231,    8,    0,    6,   64]])"
            ]
          },
          "metadata": {
            "tags": []
          },
          "execution_count": 26
        }
      ]
    },
    {
      "cell_type": "code",
      "metadata": {
        "colab": {
          "base_uri": "https://localhost:8080/"
        },
        "id": "QJO7DGak5kuc",
        "outputId": "fa7679d4-20d0-4f77-f900-b0633c386208"
      },
      "source": [
        "predRes = reg.predict(pred)\n",
        "predRes"
      ],
      "execution_count": null,
      "outputs": [
        {
          "output_type": "execute_result",
          "data": {
            "text/plain": [
              "array([1.1960634])"
            ]
          },
          "metadata": {
            "tags": []
          },
          "execution_count": 28
        }
      ]
    },
    {
      "cell_type": "code",
      "metadata": {
        "colab": {
          "base_uri": "https://localhost:8080/"
        },
        "id": "0C5WeWuF6CU_",
        "outputId": "8b8948c1-f573-4417-992f-d812df1cd2c4"
      },
      "source": [
        "import math\n",
        "math.floor(predRes)\n",
        "#최종 값"
      ],
      "execution_count": null,
      "outputs": [
        {
          "output_type": "execute_result",
          "data": {
            "text/plain": [
              "1"
            ]
          },
          "metadata": {
            "tags": []
          },
          "execution_count": 30
        }
      ]
    }
  ]
}