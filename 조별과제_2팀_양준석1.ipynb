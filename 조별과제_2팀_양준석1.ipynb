{
  "nbformat": 4,
  "nbformat_minor": 0,
  "metadata": {
    "colab": {
      "name": "조별과제_2팀_양준석.ipynb",
      "provenance": [],
      "collapsed_sections": [],
      "authorship_tag": "ABX9TyNiq50oajsi0v9bpI1pgQ9l",
      "include_colab_link": true
    },
    "kernelspec": {
      "name": "python3",
      "display_name": "Python 3"
    },
    "language_info": {
      "name": "python"
    }
  },
  "cells": [
    {
      "cell_type": "markdown",
      "metadata": {
        "id": "view-in-github",
        "colab_type": "text"
      },
      "source": [
        "<a href=\"https://colab.research.google.com/github/junseok42/2021_PNUAC_AIData/blob/main/%EC%A1%B0%EB%B3%84%EA%B3%BC%EC%A0%9C_2%ED%8C%80_%EC%96%91%EC%A4%80%EC%84%9D1.ipynb\" target=\"_parent\"><img src=\"https://colab.research.google.com/assets/colab-badge.svg\" alt=\"Open In Colab\"/></a>"
      ]
    },
    {
      "cell_type": "markdown",
      "metadata": {
        "id": "0lL6vi-1Vh_T"
      },
      "source": [
        "# 2팀\n",
        "+ 주제: op.gg 크롤링을 통해 자료 수집\n",
        "+ 주제선정이유 : 팀원들 공통의 관심사이기에 접근이 쉬울것이라 생각하여 선정하게 되었습니다\n",
        "+ 수집한 자료는 한 줄에 왼쪽부터 게임 시간, 킬 , 데스 , 어시스트 , 킬 관여율(게임 관련 정보입니다) 을 한눈에 볼수 있습니다."
      ]
    },
    {
      "cell_type": "code",
      "metadata": {
        "id": "v9NEXRyUHrQ2",
        "colab": {
          "base_uri": "https://localhost:8080/"
        },
        "outputId": "8119cd31-97d6-49cb-fdeb-e09c3b421fe1"
      },
      "source": [
        "!pip install selenium\n",
        "!apt-get update\n",
        "!apt install chromium-chromedriver"
      ],
      "execution_count": null,
      "outputs": [
        {
          "output_type": "stream",
          "text": [
            "Collecting selenium\n",
            "\u001b[?25l  Downloading https://files.pythonhosted.org/packages/80/d6/4294f0b4bce4de0abf13e17190289f9d0613b0a44e5dd6a7f5ca98459853/selenium-3.141.0-py2.py3-none-any.whl (904kB)\n",
            "\r\u001b[K     |▍                               | 10kB 14.4MB/s eta 0:00:01\r\u001b[K     |▊                               | 20kB 20.4MB/s eta 0:00:01\r\u001b[K     |█                               | 30kB 24.4MB/s eta 0:00:01\r\u001b[K     |█▌                              | 40kB 18.3MB/s eta 0:00:01\r\u001b[K     |█▉                              | 51kB 12.5MB/s eta 0:00:01\r\u001b[K     |██▏                             | 61kB 11.5MB/s eta 0:00:01\r\u001b[K     |██▌                             | 71kB 12.7MB/s eta 0:00:01\r\u001b[K     |███                             | 81kB 13.7MB/s eta 0:00:01\r\u001b[K     |███▎                            | 92kB 13.9MB/s eta 0:00:01\r\u001b[K     |███▋                            | 102kB 12.9MB/s eta 0:00:01\r\u001b[K     |████                            | 112kB 12.9MB/s eta 0:00:01\r\u001b[K     |████▍                           | 122kB 12.9MB/s eta 0:00:01\r\u001b[K     |████▊                           | 133kB 12.9MB/s eta 0:00:01\r\u001b[K     |█████                           | 143kB 12.9MB/s eta 0:00:01\r\u001b[K     |█████▍                          | 153kB 12.9MB/s eta 0:00:01\r\u001b[K     |█████▉                          | 163kB 12.9MB/s eta 0:00:01\r\u001b[K     |██████▏                         | 174kB 12.9MB/s eta 0:00:01\r\u001b[K     |██████▌                         | 184kB 12.9MB/s eta 0:00:01\r\u001b[K     |██████▉                         | 194kB 12.9MB/s eta 0:00:01\r\u001b[K     |███████▎                        | 204kB 12.9MB/s eta 0:00:01\r\u001b[K     |███████▋                        | 215kB 12.9MB/s eta 0:00:01\r\u001b[K     |████████                        | 225kB 12.9MB/s eta 0:00:01\r\u001b[K     |████████▎                       | 235kB 12.9MB/s eta 0:00:01\r\u001b[K     |████████▊                       | 245kB 12.9MB/s eta 0:00:01\r\u001b[K     |█████████                       | 256kB 12.9MB/s eta 0:00:01\r\u001b[K     |█████████▍                      | 266kB 12.9MB/s eta 0:00:01\r\u001b[K     |█████████▉                      | 276kB 12.9MB/s eta 0:00:01\r\u001b[K     |██████████▏                     | 286kB 12.9MB/s eta 0:00:01\r\u001b[K     |██████████▌                     | 296kB 12.9MB/s eta 0:00:01\r\u001b[K     |██████████▉                     | 307kB 12.9MB/s eta 0:00:01\r\u001b[K     |███████████▎                    | 317kB 12.9MB/s eta 0:00:01\r\u001b[K     |███████████▋                    | 327kB 12.9MB/s eta 0:00:01\r\u001b[K     |████████████                    | 337kB 12.9MB/s eta 0:00:01\r\u001b[K     |████████████▎                   | 348kB 12.9MB/s eta 0:00:01\r\u001b[K     |████████████▊                   | 358kB 12.9MB/s eta 0:00:01\r\u001b[K     |█████████████                   | 368kB 12.9MB/s eta 0:00:01\r\u001b[K     |█████████████▍                  | 378kB 12.9MB/s eta 0:00:01\r\u001b[K     |█████████████▊                  | 389kB 12.9MB/s eta 0:00:01\r\u001b[K     |██████████████▏                 | 399kB 12.9MB/s eta 0:00:01\r\u001b[K     |██████████████▌                 | 409kB 12.9MB/s eta 0:00:01\r\u001b[K     |██████████████▉                 | 419kB 12.9MB/s eta 0:00:01\r\u001b[K     |███████████████▏                | 430kB 12.9MB/s eta 0:00:01\r\u001b[K     |███████████████▋                | 440kB 12.9MB/s eta 0:00:01\r\u001b[K     |████████████████                | 450kB 12.9MB/s eta 0:00:01\r\u001b[K     |████████████████▎               | 460kB 12.9MB/s eta 0:00:01\r\u001b[K     |████████████████▋               | 471kB 12.9MB/s eta 0:00:01\r\u001b[K     |█████████████████               | 481kB 12.9MB/s eta 0:00:01\r\u001b[K     |█████████████████▍              | 491kB 12.9MB/s eta 0:00:01\r\u001b[K     |█████████████████▊              | 501kB 12.9MB/s eta 0:00:01\r\u001b[K     |██████████████████▏             | 512kB 12.9MB/s eta 0:00:01\r\u001b[K     |██████████████████▌             | 522kB 12.9MB/s eta 0:00:01\r\u001b[K     |██████████████████▉             | 532kB 12.9MB/s eta 0:00:01\r\u001b[K     |███████████████████▏            | 542kB 12.9MB/s eta 0:00:01\r\u001b[K     |███████████████████▋            | 552kB 12.9MB/s eta 0:00:01\r\u001b[K     |████████████████████            | 563kB 12.9MB/s eta 0:00:01\r\u001b[K     |████████████████████▎           | 573kB 12.9MB/s eta 0:00:01\r\u001b[K     |████████████████████▋           | 583kB 12.9MB/s eta 0:00:01\r\u001b[K     |█████████████████████           | 593kB 12.9MB/s eta 0:00:01\r\u001b[K     |█████████████████████▍          | 604kB 12.9MB/s eta 0:00:01\r\u001b[K     |█████████████████████▊          | 614kB 12.9MB/s eta 0:00:01\r\u001b[K     |██████████████████████          | 624kB 12.9MB/s eta 0:00:01\r\u001b[K     |██████████████████████▌         | 634kB 12.9MB/s eta 0:00:01\r\u001b[K     |██████████████████████▉         | 645kB 12.9MB/s eta 0:00:01\r\u001b[K     |███████████████████████▏        | 655kB 12.9MB/s eta 0:00:01\r\u001b[K     |███████████████████████▌        | 665kB 12.9MB/s eta 0:00:01\r\u001b[K     |████████████████████████        | 675kB 12.9MB/s eta 0:00:01\r\u001b[K     |████████████████████████▎       | 686kB 12.9MB/s eta 0:00:01\r\u001b[K     |████████████████████████▋       | 696kB 12.9MB/s eta 0:00:01\r\u001b[K     |█████████████████████████       | 706kB 12.9MB/s eta 0:00:01\r\u001b[K     |█████████████████████████▍      | 716kB 12.9MB/s eta 0:00:01\r\u001b[K     |█████████████████████████▊      | 727kB 12.9MB/s eta 0:00:01\r\u001b[K     |██████████████████████████      | 737kB 12.9MB/s eta 0:00:01\r\u001b[K     |██████████████████████████▍     | 747kB 12.9MB/s eta 0:00:01\r\u001b[K     |██████████████████████████▉     | 757kB 12.9MB/s eta 0:00:01\r\u001b[K     |███████████████████████████▏    | 768kB 12.9MB/s eta 0:00:01\r\u001b[K     |███████████████████████████▌    | 778kB 12.9MB/s eta 0:00:01\r\u001b[K     |████████████████████████████    | 788kB 12.9MB/s eta 0:00:01\r\u001b[K     |████████████████████████████▎   | 798kB 12.9MB/s eta 0:00:01\r\u001b[K     |████████████████████████████▋   | 808kB 12.9MB/s eta 0:00:01\r\u001b[K     |█████████████████████████████   | 819kB 12.9MB/s eta 0:00:01\r\u001b[K     |█████████████████████████████▍  | 829kB 12.9MB/s eta 0:00:01\r\u001b[K     |█████████████████████████████▊  | 839kB 12.9MB/s eta 0:00:01\r\u001b[K     |██████████████████████████████  | 849kB 12.9MB/s eta 0:00:01\r\u001b[K     |██████████████████████████████▍ | 860kB 12.9MB/s eta 0:00:01\r\u001b[K     |██████████████████████████████▉ | 870kB 12.9MB/s eta 0:00:01\r\u001b[K     |███████████████████████████████▏| 880kB 12.9MB/s eta 0:00:01\r\u001b[K     |███████████████████████████████▌| 890kB 12.9MB/s eta 0:00:01\r\u001b[K     |███████████████████████████████▉| 901kB 12.9MB/s eta 0:00:01\r\u001b[K     |████████████████████████████████| 911kB 12.9MB/s \n",
            "\u001b[?25hRequirement already satisfied: urllib3 in /usr/local/lib/python3.7/dist-packages (from selenium) (1.24.3)\n",
            "Installing collected packages: selenium\n",
            "Successfully installed selenium-3.141.0\n",
            "Get:1 http://ppa.launchpad.net/c2d4u.team/c2d4u4.0+/ubuntu bionic InRelease [15.9 kB]\n",
            "Hit:2 http://archive.ubuntu.com/ubuntu bionic InRelease\n",
            "Get:3 http://archive.ubuntu.com/ubuntu bionic-updates InRelease [88.7 kB]\n",
            "Get:4 https://cloud.r-project.org/bin/linux/ubuntu bionic-cran40/ InRelease [3,626 B]\n",
            "Hit:5 http://ppa.launchpad.net/cran/libgit2/ubuntu bionic InRelease\n",
            "Get:6 http://ppa.launchpad.net/deadsnakes/ppa/ubuntu bionic InRelease [15.9 kB]\n",
            "Get:7 http://archive.ubuntu.com/ubuntu bionic-backports InRelease [74.6 kB]\n",
            "Hit:8 http://ppa.launchpad.net/graphics-drivers/ppa/ubuntu bionic InRelease\n",
            "Get:9 http://security.ubuntu.com/ubuntu bionic-security InRelease [88.7 kB]\n",
            "Ign:10 https://developer.download.nvidia.com/compute/cuda/repos/ubuntu1804/x86_64  InRelease\n",
            "Get:11 http://ppa.launchpad.net/c2d4u.team/c2d4u4.0+/ubuntu bionic/main Sources [1,780 kB]\n",
            "Ign:12 https://developer.download.nvidia.com/compute/machine-learning/repos/ubuntu1804/x86_64  InRelease\n",
            "Get:13 https://developer.download.nvidia.com/compute/cuda/repos/ubuntu1804/x86_64  Release [697 B]\n",
            "Hit:14 https://developer.download.nvidia.com/compute/machine-learning/repos/ubuntu1804/x86_64  Release\n",
            "Get:15 https://developer.download.nvidia.com/compute/cuda/repos/ubuntu1804/x86_64  Release.gpg [836 B]\n",
            "Get:16 http://ppa.launchpad.net/c2d4u.team/c2d4u4.0+/ubuntu bionic/main amd64 Packages [910 kB]\n",
            "Get:17 https://cloud.r-project.org/bin/linux/ubuntu bionic-cran40/ Packages [62.2 kB]\n",
            "Get:18 http://archive.ubuntu.com/ubuntu bionic-updates/universe amd64 Packages [2,188 kB]\n",
            "Get:19 http://archive.ubuntu.com/ubuntu bionic-updates/main amd64 Packages [2,658 kB]\n",
            "Get:20 http://ppa.launchpad.net/deadsnakes/ppa/ubuntu bionic/main amd64 Packages [40.8 kB]\n",
            "Ign:22 https://developer.download.nvidia.com/compute/cuda/repos/ubuntu1804/x86_64  Packages\n",
            "Get:22 https://developer.download.nvidia.com/compute/cuda/repos/ubuntu1804/x86_64  Packages [637 kB]\n",
            "Get:23 http://security.ubuntu.com/ubuntu bionic-security/main amd64 Packages [2,221 kB]\n",
            "Get:24 http://security.ubuntu.com/ubuntu bionic-security/universe amd64 Packages [1,418 kB]\n",
            "Fetched 12.2 MB in 4s (3,374 kB/s)\n",
            "Reading package lists... Done\n",
            "Reading package lists... Done\n",
            "Building dependency tree       \n",
            "Reading state information... Done\n",
            "The following additional packages will be installed:\n",
            "  chromium-browser chromium-browser-l10n chromium-codecs-ffmpeg-extra\n",
            "Suggested packages:\n",
            "  webaccounts-chromium-extension unity-chromium-extension\n",
            "The following NEW packages will be installed:\n",
            "  chromium-browser chromium-browser-l10n chromium-chromedriver\n",
            "  chromium-codecs-ffmpeg-extra\n",
            "0 upgraded, 4 newly installed, 0 to remove and 58 not upgraded.\n",
            "Need to get 86.0 MB of archives.\n",
            "After this operation, 298 MB of additional disk space will be used.\n",
            "Get:1 http://archive.ubuntu.com/ubuntu bionic-updates/universe amd64 chromium-codecs-ffmpeg-extra amd64 91.0.4472.101-0ubuntu0.18.04.1 [1,124 kB]\n",
            "Get:2 http://archive.ubuntu.com/ubuntu bionic-updates/universe amd64 chromium-browser amd64 91.0.4472.101-0ubuntu0.18.04.1 [76.1 MB]\n",
            "Get:3 http://archive.ubuntu.com/ubuntu bionic-updates/universe amd64 chromium-browser-l10n all 91.0.4472.101-0ubuntu0.18.04.1 [3,937 kB]\n",
            "Get:4 http://archive.ubuntu.com/ubuntu bionic-updates/universe amd64 chromium-chromedriver amd64 91.0.4472.101-0ubuntu0.18.04.1 [4,837 kB]\n",
            "Fetched 86.0 MB in 2s (49.0 MB/s)\n",
            "Selecting previously unselected package chromium-codecs-ffmpeg-extra.\n",
            "(Reading database ... 160815 files and directories currently installed.)\n",
            "Preparing to unpack .../chromium-codecs-ffmpeg-extra_91.0.4472.101-0ubuntu0.18.04.1_amd64.deb ...\n",
            "Unpacking chromium-codecs-ffmpeg-extra (91.0.4472.101-0ubuntu0.18.04.1) ...\n",
            "Selecting previously unselected package chromium-browser.\n",
            "Preparing to unpack .../chromium-browser_91.0.4472.101-0ubuntu0.18.04.1_amd64.deb ...\n",
            "Unpacking chromium-browser (91.0.4472.101-0ubuntu0.18.04.1) ...\n",
            "Selecting previously unselected package chromium-browser-l10n.\n",
            "Preparing to unpack .../chromium-browser-l10n_91.0.4472.101-0ubuntu0.18.04.1_all.deb ...\n",
            "Unpacking chromium-browser-l10n (91.0.4472.101-0ubuntu0.18.04.1) ...\n",
            "Selecting previously unselected package chromium-chromedriver.\n",
            "Preparing to unpack .../chromium-chromedriver_91.0.4472.101-0ubuntu0.18.04.1_amd64.deb ...\n",
            "Unpacking chromium-chromedriver (91.0.4472.101-0ubuntu0.18.04.1) ...\n",
            "Setting up chromium-codecs-ffmpeg-extra (91.0.4472.101-0ubuntu0.18.04.1) ...\n",
            "Setting up chromium-browser (91.0.4472.101-0ubuntu0.18.04.1) ...\n",
            "update-alternatives: using /usr/bin/chromium-browser to provide /usr/bin/x-www-browser (x-www-browser) in auto mode\n",
            "update-alternatives: using /usr/bin/chromium-browser to provide /usr/bin/gnome-www-browser (gnome-www-browser) in auto mode\n",
            "Setting up chromium-chromedriver (91.0.4472.101-0ubuntu0.18.04.1) ...\n",
            "Setting up chromium-browser-l10n (91.0.4472.101-0ubuntu0.18.04.1) ...\n",
            "Processing triggers for man-db (2.8.3-2ubuntu0.1) ...\n",
            "Processing triggers for hicolor-icon-theme (0.17-2) ...\n",
            "Processing triggers for mime-support (3.60ubuntu1) ...\n",
            "Processing triggers for libc-bin (2.27-3ubuntu1.2) ...\n",
            "/sbin/ldconfig.real: /usr/local/lib/python3.7/dist-packages/ideep4py/lib/libmkldnn.so.0 is not a symbolic link\n",
            "\n"
          ],
          "name": "stdout"
        }
      ]
    },
    {
      "cell_type": "code",
      "metadata": {
        "id": "sOtoHzm3JP91"
      },
      "source": [
        "from selenium import webdriver\n",
        "from urllib.request import urlopen\n",
        "from bs4 import BeautifulSoup as bs\n",
        "from urllib.parse import quote_plus\n",
        "from selenium.webdriver.common.keys import Keys\n",
        "import time"
      ],
      "execution_count": null,
      "outputs": []
    },
    {
      "cell_type": "code",
      "metadata": {
        "colab": {
          "base_uri": "https://localhost:8080/"
        },
        "id": "IyB9D8mVJxdh",
        "outputId": "8de46a03-5b89-4cfa-96fd-a75126e2236f"
      },
      "source": [
        "url = \"https://www.op.gg/summoner/userName=\"\n",
        "summoner = input(\"소환사명을 입력하세요 : \")\n",
        "base_url = url + quote_plus(summoner)\n",
        "print(base_url)\n",
        "#닉네임 입력"
      ],
      "execution_count": null,
      "outputs": [
        {
          "output_type": "stream",
          "text": [
            "소환사명을 입력하세요 : 비어디\n",
            "https://www.op.gg/summoner/userName=%EB%B9%84%EC%96%B4%EB%94%94\n"
          ],
          "name": "stdout"
        }
      ]
    },
    {
      "cell_type": "code",
      "metadata": {
        "id": "iQPRkEb-KbLM",
        "colab": {
          "base_uri": "https://localhost:8080/"
        },
        "outputId": "fa71752e-a694-41cf-921c-32cd429ab17a"
      },
      "source": [
        "chrome_options = webdriver.ChromeOptions()\n",
        "chrome_options.add_argument('--headless')\n",
        "chrome_options.add_argument('--no-sandbox')\n",
        "chrome_options.add_argument('--disable-dev-shm-usage')\n",
        "chrome_options.add_argument(\"--start-maximized\")\n",
        "driver = webdriver.Chrome('chromedriver', chrome_options=chrome_options)\n",
        "driver.get(base_url)"
      ],
      "execution_count": null,
      "outputs": [
        {
          "output_type": "stream",
          "text": [
            "/usr/local/lib/python3.7/dist-packages/ipykernel_launcher.py:6: DeprecationWarning: use options instead of chrome_options\n",
            "  \n"
          ],
          "name": "stderr"
        }
      ]
    },
    {
      "cell_type": "code",
      "metadata": {
        "id": "dKomB_YyLA7t"
      },
      "source": [
        "driver.get_screenshot_as_file('/content/screenshot.png')"
      ],
      "execution_count": null,
      "outputs": []
    },
    {
      "cell_type": "code",
      "metadata": {
        "id": "jhrlEWsCL_2j",
        "colab": {
          "base_uri": "https://localhost:8080/"
        },
        "outputId": "120ed6bb-fa17-4ccf-ab1b-a5af66c8fb6d"
      },
      "source": [
        "gameLists = driver.find_elements_by_class_name('GameItemWrap')\n",
        "gameLists"
      ],
      "execution_count": null,
      "outputs": [
        {
          "output_type": "execute_result",
          "data": {
            "text/plain": [
              "[<selenium.webdriver.remote.webelement.WebElement (session=\"ced2a010d0234950d672bfa79689299d\", element=\"fa05e52a-b76a-48fe-931e-1c7bf3feaae7\")>,\n",
              " <selenium.webdriver.remote.webelement.WebElement (session=\"ced2a010d0234950d672bfa79689299d\", element=\"99c5c601-afa4-42a1-904b-ad729e842d8d\")>,\n",
              " <selenium.webdriver.remote.webelement.WebElement (session=\"ced2a010d0234950d672bfa79689299d\", element=\"8c2cdb56-9a90-4150-b387-7cc701c1d6c1\")>,\n",
              " <selenium.webdriver.remote.webelement.WebElement (session=\"ced2a010d0234950d672bfa79689299d\", element=\"6bb32c19-3517-4290-89ea-ab2bc9eb1263\")>,\n",
              " <selenium.webdriver.remote.webelement.WebElement (session=\"ced2a010d0234950d672bfa79689299d\", element=\"b13cb54c-342a-4d31-91db-eb09d396733d\")>,\n",
              " <selenium.webdriver.remote.webelement.WebElement (session=\"ced2a010d0234950d672bfa79689299d\", element=\"366ad550-62fc-426c-82bd-844d65c5188e\")>,\n",
              " <selenium.webdriver.remote.webelement.WebElement (session=\"ced2a010d0234950d672bfa79689299d\", element=\"c3b5f6e0-f0d2-417a-bc82-19af7e690598\")>,\n",
              " <selenium.webdriver.remote.webelement.WebElement (session=\"ced2a010d0234950d672bfa79689299d\", element=\"5fc24f48-91dc-41e4-912d-f927203ad89d\")>,\n",
              " <selenium.webdriver.remote.webelement.WebElement (session=\"ced2a010d0234950d672bfa79689299d\", element=\"1bbda547-d262-4ebf-b516-abb24ce754c6\")>,\n",
              " <selenium.webdriver.remote.webelement.WebElement (session=\"ced2a010d0234950d672bfa79689299d\", element=\"df0ebee6-7653-4559-84fd-dea2a625ab90\")>,\n",
              " <selenium.webdriver.remote.webelement.WebElement (session=\"ced2a010d0234950d672bfa79689299d\", element=\"e0e39b99-259a-4765-94dd-f677c044e703\")>,\n",
              " <selenium.webdriver.remote.webelement.WebElement (session=\"ced2a010d0234950d672bfa79689299d\", element=\"5bc8be92-1646-4024-b2b4-2b09f4e7e109\")>,\n",
              " <selenium.webdriver.remote.webelement.WebElement (session=\"ced2a010d0234950d672bfa79689299d\", element=\"2e1ba472-3db2-443c-878d-3894aaddcc2e\")>,\n",
              " <selenium.webdriver.remote.webelement.WebElement (session=\"ced2a010d0234950d672bfa79689299d\", element=\"187e02b0-f170-4bbc-b4d1-246565b9d62c\")>,\n",
              " <selenium.webdriver.remote.webelement.WebElement (session=\"ced2a010d0234950d672bfa79689299d\", element=\"25cc4645-d20c-4b4d-a3d2-dab4b07d1a48\")>,\n",
              " <selenium.webdriver.remote.webelement.WebElement (session=\"ced2a010d0234950d672bfa79689299d\", element=\"1b80d21e-7695-4155-b14c-60d4b6215bab\")>,\n",
              " <selenium.webdriver.remote.webelement.WebElement (session=\"ced2a010d0234950d672bfa79689299d\", element=\"322d26d6-986e-4eb7-8656-bf5b1ecd383f\")>,\n",
              " <selenium.webdriver.remote.webelement.WebElement (session=\"ced2a010d0234950d672bfa79689299d\", element=\"0834b478-023b-4a50-ac7c-21dd659ab806\")>,\n",
              " <selenium.webdriver.remote.webelement.WebElement (session=\"ced2a010d0234950d672bfa79689299d\", element=\"cf97edd7-12a7-4218-8017-1f24fdc8140e\")>,\n",
              " <selenium.webdriver.remote.webelement.WebElement (session=\"ced2a010d0234950d672bfa79689299d\", element=\"49eb49bf-135c-4a29-b367-42911135c8a2\")>]"
            ]
          },
          "metadata": {
            "tags": []
          },
          "execution_count": 6
        }
      ]
    },
    {
      "cell_type": "code",
      "metadata": {
        "id": "my5bxW4hOeUA",
        "colab": {
          "base_uri": "https://localhost:8080/"
        },
        "outputId": "3a2dedea-8e95-4ed5-d4cb-e7cc66331267"
      },
      "source": [
        "for game in gameLists:\n",
        "  gameLength = game.find_element_by_class_name(\"GameLength\")\n",
        "  kill = game.find_element_by_class_name(\"Kill\")\n",
        "  death = game.find_element_by_class_name(\"Death\")\n",
        "  assist = game.find_element_by_class_name(\"Assist\")\n",
        "  killRate = game.find_element_by_class_name(\"CKRate\")\n",
        "  print(gameLength.text, kill.text, death.text,assist.text,killRate.text)\n",
        "#데이터 수집 후 출력"
      ],
      "execution_count": null,
      "outputs": [
        {
          "output_type": "stream",
          "text": [
            "21m 51s 4 6 2 P/Kill 35%\n",
            "27m 30s 3 8 8 P/Kill 32%\n",
            "31m 19s 15 2 8 P/Kill 70%\n",
            "30m 1s 5 7 7 P/Kill 50%\n",
            "34m 42s 7 5 11 P/Kill 46%\n",
            "22m 6s 9 6 2 P/Kill 85%\n",
            "28m 0s 15 7 6 P/Kill 47%\n",
            "20m 52s 1 6 2 P/Kill 25%\n",
            "38m 33s 11 9 4 P/Kill 33%\n",
            "10m 13s 6 0 1 P/Kill 64%\n",
            "21m 23s 17 3 6 P/Kill 59%\n",
            "16m 9s 4 2 5 P/Kill 28%\n",
            "27m 23s 20 4 1 P/Kill 50%\n",
            "26m 58s 17 5 12 P/Kill 71%\n",
            "15m 36s 9 2 4 P/Kill 54%\n",
            "19m 7s 7 2 2 P/Kill 39%\n",
            "26m 46s 8 3 9 P/Kill 57%\n",
            "30m 13s 5 7 8 P/Kill 46%\n",
            "17m 29s 3 1 3 P/Kill 35%\n",
            "30m 35s 8 3 19 P/Kill 60%\n"
          ],
          "name": "stdout"
        }
      ]
    }
  ]
}